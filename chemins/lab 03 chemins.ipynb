{
 "cells": [
  {
   "cell_type": "code",
   "metadata": {
    "collapsed": false,
    "ExecuteTime": {
     "end_time": "2025-04-06T12:50:41.980575Z",
     "start_time": "2025-04-06T12:50:38.947503Z"
    }
   },
   "source": [
    "from AllGraphs import *\n",
    "from Draw import *\n",
    "from math import *\n",
    "import numpy as np\n",
    "\n",
    "graphConstructor = IncidencyGraph"
   ],
   "outputs": [],
   "execution_count": 1
  },
  {
   "cell_type": "code",
   "metadata": {
    "collapsed": false,
    "ExecuteTime": {
     "end_time": "2025-04-06T13:20:12.586265Z",
     "start_time": "2025-04-06T13:20:12.560078Z"
    }
   },
   "source": [
    "class Tas :\n",
    "    def __init__(self, compare = lambda a, b : a - b) :\n",
    "        self.data = list()\n",
    "        self.compare = compare\n",
    "\n",
    "    def __len__(self) :\n",
    "        # TODO : renvoyer le nombre d'éléments du tas\n",
    "        return len(self.data)\n",
    "\n",
    "    def __getitem__(self, i) :\n",
    "        # TODO : autoriser la notation [i] en lecture\n",
    "        return self.data[i]\n",
    "\n",
    "    def __setitem__(self, i, v) :\n",
    "        # TODO : autoriser la notation [i] en écriture\n",
    "        self.data[i] = v\n",
    "\n",
    "    def left_id(self, i) :\n",
    "        # TODO : renvoyer l'indice du fils gauche\n",
    "        return 2*i+1\n",
    "\n",
    "    def right_id(self, i) :\n",
    "        # TODO : renvoyer l'indice du fils droit\n",
    "        return 2*i+2\n",
    "\n",
    "    def parent_id(self, i) :\n",
    "        # TODO : renvoyer l'indice du parent\n",
    "        return (i-1)//2\n",
    "\n",
    "    def tamper_to_root(self, i):\n",
    "        if i == 0:\n",
    "            return\n",
    "\n",
    "        parent_id = self.parent_id(i)\n",
    "\n",
    "        if self.compare(self[i], self[parent_id]) > 0:\n",
    "            self[i], self[parent_id] = self[parent_id], self[i]\n",
    "\n",
    "            if parent_id != 0:\n",
    "                self.tamper_to_root(parent_id)\n",
    "\n",
    "    def append(self, v) :\n",
    "        # TODO : ajouter un élément depuis la fin de la liste et le faire remonter jusqu'à sa position dans l'arbre\n",
    "        self.data = self.data + [v]\n",
    "        self.tamper_to_root(len(self.data)-1)\n",
    "        return self.data\n",
    "\n",
    "    def tamper_to_leaf(self, i):\n",
    "        if i >= len(self):\n",
    "            return\n",
    "\n",
    "        left_id = self.left_id(i)\n",
    "        right_id = self.right_id(i)\n",
    "\n",
    "        if left_id >= len(self):\n",
    "            return\n",
    "\n",
    "        best_id = i\n",
    "\n",
    "        if self.compare(self[left_id], self[best_id]) > 0:\n",
    "            best_id = left_id\n",
    "\n",
    "        if right_id < len(self) and self.compare(self[right_id], self[best_id]) > 0:\n",
    "            best_id = right_id\n",
    "\n",
    "        if best_id != i:\n",
    "            self[i], self[best_id] = self[best_id], self[i]\n",
    "            self.tamper_to_leaf(best_id)\n",
    "\n",
    "    def pop(self) :\n",
    "        # TODO : extraire le plus petit élément échanger le dernier élément et le premier élément puis faire descendre le premier élément jusqu'à sa position dans l'arbre\n",
    "\n",
    "        root = self.data[0]\n",
    "        self.data[0] = self.data[-1]\n",
    "        self.data = self.data[:-1]\n",
    "        self.tamper_to_leaf(0)\n",
    "        return root\n",
    "\"\"\"\n",
    "PS:\n",
    "Je me suis aidé des pseudo-codes de: https://fr.wikipedia.org/wiki/Tas_(informatique)\n",
    "\"\"\""
   ],
   "outputs": [
    {
     "data": {
      "text/plain": [
       "'\\nPS:\\nJe me suis aidé des pseudo-codes de: https://fr.wikipedia.org/wiki/Tas_(informatique)\\n'"
      ]
     },
     "execution_count": 8,
     "metadata": {},
     "output_type": "execute_result"
    }
   ],
   "execution_count": 8
  },
  {
   "cell_type": "code",
   "metadata": {
    "collapsed": false,
    "ExecuteTime": {
     "end_time": "2025-04-06T13:20:13.957178Z",
     "start_time": "2025-04-06T13:20:13.932946Z"
    }
   },
   "source": [
    "def tri_par_tas(l, compare = lambda a, b : b - a) :\n",
    "    tas = Tas(compare)\n",
    "    for e in l :\n",
    "        tas.append(e)\n",
    "    r = list()\n",
    "    while len(tas) > 0 :\n",
    "        r.append(tas.pop())\n",
    "    return r"
   ],
   "outputs": [],
   "execution_count": 9
  },
  {
   "cell_type": "code",
   "metadata": {
    "collapsed": false,
    "ExecuteTime": {
     "end_time": "2025-04-06T13:20:14.654887Z",
     "start_time": "2025-04-06T13:20:14.635716Z"
    }
   },
   "source": [
    "do_full = True\n",
    "l = [5, 9, 4, 7, 2, 3, 1, 6]\n",
    "print(tri_par_tas(l))\n",
    "if do_full :\n",
    "    from random import *\n",
    "    l = [randint(-1000, 1000) for i in range(0, 10)]\n",
    "    print(l)\n",
    "    r = tri_par_tas(l)\n",
    "    print(r)\n",
    "    is_sorted = True\n",
    "    for i in range(len(r) - 1) :\n",
    "        if r[i] > r[i + 1] :\n",
    "            is_sorted = False\n",
    "    print(\"Sorted :\", is_sorted)"
   ],
   "outputs": [
    {
     "name": "stdout",
     "output_type": "stream",
     "text": [
      "[1, 2, 3, 4, 5, 6, 7, 9]\n",
      "[657, 424, 241, -605, 731, -253, -869, 6, 719, -160]\n",
      "[-869, -605, -253, -160, 6, 241, 424, 657, 719, 731]\n",
      "Sorted : True\n"
     ]
    }
   ],
   "execution_count": 10
  },
  {
   "cell_type": "code",
   "execution_count": 51,
   "metadata": {
    "collapsed": false
   },
   "outputs": [],
   "source": [
    "class UnionFind :\n",
    "    def __init__(self, values) :\n",
    "        self.parent = {v : v for v in values}\n",
    "\n",
    "    def find(self, v) :\n",
    "        # TODO : rechercher le réprésentant de v dans le graphe.\n",
    "        # TODO : mettre à jour les liens de parenté lors du parcours\n",
    "        pass\n",
    "\n",
    "    def union(self, x, y) :\n",
    "        # TODO : fusionner les classes de x et y\n",
    "        pass\n",
    "\n",
    "# TODO : une classe Pair comparable pour associer un arc et son poids et l'utiliser via Tas ?"
   ]
  },
  {
   "cell_type": "code",
   "execution_count": 52,
   "metadata": {
    "collapsed": false
   },
   "outputs": [],
   "source": [
    "def Kruskal(graph) :\n",
    "    # TODO : construire l'arbre couvrant minimal par extraction d'arcs minimaux (composants non connectés)\n",
    "    return set()"
   ]
  },
  {
   "cell_type": "code",
   "execution_count": 53,
   "metadata": {
    "collapsed": false
   },
   "outputs": [],
   "source": [
    "def example_star() :\n",
    "\tgraph = graphConstructor()\n",
    "\tgraph.add_vertices({\"A\", \"B\", \"C\", \"D\", \"E\", \"F\"})\n",
    "\tedges = {(\"A\", \"B\") : 1, (\"A\", \"C\") : 6, (\"A\", \"F\") : 4, (\"B\", \"C\") : 5, (\"B\", \"D\") : 2, (\"B\", \"E\") : 4, (\"B\", \"F\") : 5, (\"C\", \"D\") : 3, (\"D\", \"E\") : 2, (\"E\", \"F\") : 6}\n",
    "\tgraph.add_edges(edges)\n",
    "\tgraph.add_edges({(v, u) : edges[(u, v)] for u, v in edges})\n",
    "\treturn graph"
   ]
  },
  {
   "cell_type": "code",
   "execution_count": 54,
   "metadata": {
    "collapsed": false
   },
   "outputs": [
    {
     "name": "stdout",
     "output_type": "stream",
     "text": [
      "{('D', 'C'), ('B', 'D'), ('B', 'A'), ('D', 'E'), ('A', 'F')}\n"
     ]
    }
   ],
   "source": [
    "print(Kruskal(example_star()))"
   ]
  },
  {
   "cell_type": "code",
   "execution_count": 55,
   "metadata": {
    "collapsed": false
   },
   "outputs": [],
   "source": [
    "def Prim(graph, start) :\n",
    "    # TODO : construire l'arbre couvrant minimal par diffusion via les arcs minimaux\n",
    "    return set()"
   ]
  },
  {
   "cell_type": "code",
   "execution_count": 56,
   "metadata": {
    "collapsed": false
   },
   "outputs": [
    {
     "name": "stdout",
     "output_type": "stream",
     "text": [
      "{('D', 'C'), ('B', 'D'), ('D', 'E'), ('A', 'B'), ('A', 'F')}\n"
     ]
    }
   ],
   "source": [
    "print(Prim(example_star(), \"A\"))"
   ]
  },
  {
   "cell_type": "code",
   "execution_count": 57,
   "metadata": {
    "collapsed": false
   },
   "outputs": [],
   "source": [
    "def build_path(adjcences, start, end) :\n",
    "    # TODO : reconstruire le chemin de start vers end depuis les adjacences données\n",
    "    return list()\n",
    "\n",
    "def path_cost(graph, path) :\n",
    "    # TODO : calculer le coût du chemin\n",
    "    return 0"
   ]
  },
  {
   "cell_type": "code",
   "execution_count": 58,
   "metadata": {
    "collapsed": false
   },
   "outputs": [],
   "source": [
    "def Dijkstra(graph, start, end = None) :\n",
    "    # TODO : implémenter la méthode de recherche de plus court chemin dans un graphe de Dijkstra\n",
    "    return dict()"
   ]
  },
  {
   "cell_type": "code",
   "execution_count": 59,
   "metadata": {
    "collapsed": false
   },
   "outputs": [],
   "source": [
    "def example_net() :\n",
    "\tgraph = graphConstructor()\n",
    "\tgraph.add_vertices({\"A\", \"B\", \"C\", \"D\", \"E\", \"F\"})\n",
    "\tedges = {(\"A\", \"B\") : 2, (\"A\", \"C\") : 5, (\"A\", \"D\") : 1, \n",
    "\t(\"B\", \"C\") : 3, (\"B\", \"D\") : 2, (\"C\", \"D\") : 3, (\"C\", \"E\") : 1,\n",
    "\t(\"C\", \"F\") : 5, (\"D\", \"E\") : 1, (\"E\", \"F\") : 2}\n",
    "\tgraph.add_edges(edges)\n",
    "\tgraph.add_edges({(v, u) : edges[(u, v)] for u, v in edges})\n",
    "\treturn graph"
   ]
  },
  {
   "cell_type": "code",
   "execution_count": 60,
   "metadata": {
    "collapsed": false
   },
   "outputs": [
    {
     "name": "stdout",
     "output_type": "stream",
     "text": [
      "{'B': (2, 'A'), 'A': (0, None), 'F': (4, 'E'), 'D': (1, 'A'), 'E': (2, 'D'), 'C': (3, 'E')}\n",
      "['A', 'D', 'E', 'F']\n",
      "4\n"
     ]
    }
   ],
   "source": [
    "graph = example_net()\n",
    "adjcences = Dijkstra(graph, \"A\")\n",
    "print(adjcences)\n",
    "path = build_path(adjcences, \"A\", \"F\")\n",
    "print(path)\n",
    "print(path_cost(graph, path))"
   ]
  },
  {
   "cell_type": "code",
   "execution_count": 63,
   "metadata": {
    "collapsed": false
   },
   "outputs": [],
   "source": [
    "def Floyd_Warshall(graph) :\n",
    "    # TODO : implémenter le calcul de la matrice d'adjacences de Floyd Warshall\n",
    "    return dict()"
   ]
  },
  {
   "cell_type": "code",
   "execution_count": 65,
   "metadata": {
    "collapsed": false
   },
   "outputs": [
    {
     "name": "stdout",
     "output_type": "stream",
     "text": [
      "A {'B': (2, 'A'), 'A': (0, None), 'F': (4, 'E'), 'D': (1, 'A'), 'E': (2, 'D'), 'C': (3, 'E')}\n",
      "B {'B': (0, None), 'A': (2, 'B'), 'F': (5, 'E'), 'D': (2, 'B'), 'E': (3, 'D'), 'C': (3, 'B')}\n",
      "C {'B': (3, 'C'), 'A': (3, 'D'), 'F': (3, 'E'), 'D': (2, 'E'), 'E': (1, 'C'), 'C': (0, None)}\n",
      "D {'B': (2, 'D'), 'A': (1, 'D'), 'F': (3, 'E'), 'D': (0, None), 'E': (1, 'D'), 'C': (2, 'E')}\n",
      "E {'B': (3, 'D'), 'A': (2, 'D'), 'F': (2, 'E'), 'D': (1, 'E'), 'E': (0, None), 'C': (1, 'E')}\n",
      "F {'B': (5, 'D'), 'A': (4, 'D'), 'F': (0, None), 'D': (3, 'E'), 'E': (2, 'F'), 'C': (3, 'E')}\n",
      "['A', 'D', 'E', 'F']\n",
      "4\n"
     ]
    }
   ],
   "source": [
    "graph = example_net()\n",
    "adjacences = Floyd_Warshall(graph)\n",
    "for v in sorted(adjacences.keys()) :\n",
    "    print(v, adjacences[v])\n",
    "path = build_path(adjacences[\"A\"], \"A\", \"F\")\n",
    "print(path)\n",
    "print(path_cost(graph, path))"
   ]
  },
  {
   "cell_type": "code",
   "execution_count": 39,
   "metadata": {
    "collapsed": false
   },
   "outputs": [],
   "source": [
    "def example_neg() :\n",
    "\tgraph = graphConstructor()\n",
    "\tgraph.add_vertices({\"A\", \"B\", \"C\", \"D\"})\n",
    "\tedges = {(\"A\", \"B\") : 2, (\"A\", \"D\") : 5, (\"D\", \"B\") : -5, (\"B\", \"C\") : 2, (\"D\", \"C\") : -2}\n",
    "\tgraph.add_edges(edges)\n",
    "\treturn graph"
   ]
  },
  {
   "cell_type": "code",
   "execution_count": 68,
   "metadata": {
    "collapsed": false
   },
   "outputs": [
    {
     "name": "stdout",
     "output_type": "stream",
     "text": [
      "{'A': (0, None), 'D': (5, 'A'), 'B': (0, 'D'), 'C': (3, 'D')}\n",
      "['A', 'D', 'C']\n",
      "3\n"
     ]
    }
   ],
   "source": [
    "graph = example_neg()\n",
    "adjacences = Dijkstra(graph, \"A\")\n",
    "print(adjacences)\n",
    "path = build_path(adjacences, \"A\", \"C\")\n",
    "print(path)\n",
    "print(path_cost(graph, path))"
   ]
  },
  {
   "cell_type": "code",
   "execution_count": 69,
   "metadata": {
    "collapsed": false
   },
   "outputs": [
    {
     "name": "stdout",
     "output_type": "stream",
     "text": [
      "A {'A': (0, None), 'D': (5, 'A'), 'B': (0, 'D'), 'C': (2, 'B')}\n",
      "B {'A': (inf, None), 'D': (inf, None), 'B': (0, None), 'C': (2, 'B')}\n",
      "C {'A': (inf, None), 'D': (inf, None), 'B': (inf, None), 'C': (0, None)}\n",
      "D {'A': (inf, None), 'D': (0, None), 'B': (-5, 'D'), 'C': (-3, 'B')}\n",
      "['A', 'D', 'B', 'C']\n",
      "2\n"
     ]
    }
   ],
   "source": [
    "graph = example_neg()\n",
    "adjacences = Floyd_Warshall(graph)\n",
    "for v in sorted(adjacences.keys()) :\n",
    "    print(v, adjacences[v])\n",
    "path = build_path(adjacences[\"A\"], \"A\", \"C\")\n",
    "print(path)\n",
    "print(path_cost(graph, path))"
   ]
  },
  {
   "cell_type": "code",
   "execution_count": 41,
   "metadata": {
    "collapsed": false
   },
   "outputs": [],
   "source": [
    "def Bellman_Ford(graph, start, end = None) :\n",
    "    # TODO : implémenter la méthode robuste aux arcs de poids négatif de Bellman-Ford\n",
    "    return dict()"
   ]
  },
  {
   "cell_type": "code",
   "execution_count": 70,
   "metadata": {
    "collapsed": false
   },
   "outputs": [
    {
     "name": "stdout",
     "output_type": "stream",
     "text": [
      "{'A': (0, None), 'D': (5, 'A'), 'B': (0, 'D'), 'C': (2, 'B')}\n",
      "['A', 'D', 'B', 'C']\n",
      "2\n"
     ]
    }
   ],
   "source": [
    "graph = example_neg()\n",
    "adjacences = Bellman_Ford(graph, \"A\")\n",
    "print(adjacences)\n",
    "path = build_path(adjacences, \"A\", \"C\")\n",
    "print(path)\n",
    "print(path_cost(graph, path))"
   ]
  },
  {
   "cell_type": "code",
   "execution_count": 72,
   "metadata": {
    "collapsed": false
   },
   "outputs": [],
   "source": [
    "def Astar(graph, start, end, heuristic = lambda x : 1) :\n",
    "    # TODO : implémenter la méthode de recherche de chemin A* guidée par une heuristique\n",
    "    return dict()"
   ]
  },
  {
   "cell_type": "code",
   "execution_count": 75,
   "metadata": {
    "collapsed": false
   },
   "outputs": [
    {
     "name": "stdout",
     "output_type": "stream",
     "text": [
      ".............\n",
      "......#####..\n",
      "......#...#..\n",
      ".S........#.E\n",
      "......#...#..\n",
      "......#####..\n",
      ".............\n",
      "Dijkstra\n",
      "[(3, 1), (3, 2), (3, 3), (2, 4), (1, 5), (0, 6), (0, 7), (0, 8), (0, 9), (0, 10), (1, 11), (2, 11), (3, 12)]\n",
      "- distance : 14.0711\n",
      "......ooooo..\n",
      ".....o#####o.\n",
      "....o.#...#o.\n",
      ".ooo......#.o\n",
      "......#...#..\n",
      "......#####..\n",
      ".............\n",
      "Bellman_Ford\n",
      "[(3, 1), (3, 2), (2, 3), (2, 4), (1, 5), (0, 6), (0, 7), (0, 8), (0, 9), (0, 10), (1, 11), (2, 12), (3, 12)]\n",
      "- distance : 14.0711\n",
      "......ooooo..\n",
      ".....o#####o.\n",
      "...oo.#...#.o\n",
      ".oo.......#.o\n",
      "......#...#..\n",
      "......#####..\n",
      ".............\n",
      "Astar\n",
      "Astar in 40 / 76\n",
      "Astar in 76 / 76\n",
      "[(3, 1), (4, 2), (4, 3), (5, 4), (6, 5), (6, 6), (6, 7), (6, 8), (6, 9), (6, 10), (5, 11), (4, 12), (3, 12)]\n",
      "- distance : 14.0711\n",
      ".............\n",
      "......#####..\n",
      "......#...#..\n",
      ".o........#.o\n",
      "..oo..#...#.o\n",
      "....o.#####o.\n",
      ".....oooooo..\n",
      "Floyd_Warshall\n",
      "[(3, 1), (3, 2), (3, 3), (4, 4), (5, 5), (6, 6), (6, 7), (6, 8), (6, 9), (6, 10), (5, 11), (4, 11), (3, 12)]\n",
      "- distance : 14.0711\n",
      ".............\n",
      "......#####..\n",
      "......#...#..\n",
      ".ooo......#.o\n",
      "....o.#...#o.\n",
      ".....o#####o.\n",
      "......ooooo..\n"
     ]
    }
   ],
   "source": [
    "connex = 8\n",
    "grid = \"\"\"\n",
    ".............\n",
    "......#####..\n",
    "......#...#..\n",
    ".S........#.E\n",
    "......#...#..\n",
    "......#####..\n",
    ".............\n",
    "\"\"\"\n",
    "grid = [l for l in grid.split(\"\\n\") if len(l) > 0]\n",
    "start = None\n",
    "end = None\n",
    "graph = graphConstructor()\n",
    "print(\"\\n\".join(grid))\n",
    "compute_distance = lambda a, b : ((a[0] - b[0]) ** 2 + (a[1] - b[1]) ** 2) ** 0.5\n",
    "for i in range(len(grid)) :\n",
    "    for j in range(len(grid[i])) :\n",
    "        if grid[i][j] != \"#\" :\n",
    "            graph.add_vertex((i, j))\n",
    "        if grid[i][j] == \"S\" :\n",
    "            start = (i, j)\n",
    "        if grid[i][j] == \"E\" :\n",
    "            end = (i, j)\n",
    "nei = [(1, 0), (0, 1), (-1, 0), (0, -1)]\n",
    "if connex == 8 : \n",
    "    nei += [(1, 1), (1, -1), (-1, 1), (-1, -1)]\n",
    "for i in range(len(grid)) :\n",
    "    for j in range(len(grid[i])) :\n",
    "        if grid[i][j] == \"#\" : continue\n",
    "        for ox, oy in nei :\n",
    "            if i + ox >= 0 and i + ox < len(grid) and j + oy >= 0 and j + oy < len(grid[i]) and grid[i + ox][j + oy] != \"#\" :\n",
    "                d = (ox ** 2 + oy ** 2) ** 0.5\n",
    "                graph.add_edge((i, j), (i + ox, j + oy), d)\n",
    "                graph.add_edge((i + ox, j + oy), (i, j), d)\n",
    "for choix in [\"Dijkstra\", \"Bellman_Ford\", \"Astar\", \"Floyd_Warshall\"] :\n",
    "    print(choix)\n",
    "    if choix == \"Astar\" :\n",
    "        path = build_path(eval(choix)(graph, start, end, heuristic = lambda x : 10 * compute_distance(x, end) ** 10), start, end)\n",
    "    if choix == \"Floyd_Warshall\" :\n",
    "        path = build_path(eval(choix)(graph)[start], start, end)\n",
    "    else :\n",
    "        path = build_path(eval(choix)(graph, start, end), start, end)\n",
    "    print(path)\n",
    "    distance = 0\n",
    "    for i in range(len(path) - 1) :\n",
    "        distance += compute_distance(path[i], path[i + 1])\n",
    "    print(\"- distance : %g\" % distance)\n",
    "    path = set(path)\n",
    "    for i in range(len(grid)) :\n",
    "        line = \"\"\n",
    "        for j in range(len(grid[i])) :\n",
    "            if (i, j) in path :\n",
    "                line += \"o\"\n",
    "            else :\n",
    "                line += grid[i][j]\n",
    "        print(line)"
   ]
  }
 ],
 "metadata": {
  "kernelspec": {
   "argv": [
    "/usr/bin/python3",
    "-m",
    "ipykernel",
    "--HistoryManager.enabled=False",
    "--matplotlib=inline",
    "-c",
    "%config InlineBackend.figure_formats = set(['retina'])\nimport matplotlib; matplotlib.rcParams['figure.figsize'] = (12, 7)",
    "-f",
    "{connection_file}"
   ],
   "display_name": "Python 3 (system-wide)",
   "env": {},
   "language": "python",
   "metadata": {
    "cocalc": {
     "description": "Python 3 programming language",
     "priority": 100,
     "url": "https://www.python.org/"
    }
   },
   "name": "python3",
   "resource_dir": "/ext/jupyter/kernels/python3"
  },
  "language_info": {
   "codemirror_mode": {
    "name": "ipython",
    "version": 3
   },
   "file_extension": ".py",
   "mimetype": "text/x-python",
   "name": "python",
   "nbconvert_exporter": "python",
   "pygments_lexer": "ipython3",
   "version": "3.10.12"
  }
 },
 "nbformat": 4,
 "nbformat_minor": 4
}
