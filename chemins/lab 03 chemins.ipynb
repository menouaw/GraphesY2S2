{
 "cells": [
  {
   "cell_type": "code",
   "metadata": {
    "collapsed": false,
    "ExecuteTime": {
     "end_time": "2025-04-19T12:03:10.876428Z",
     "start_time": "2025-04-19T12:02:57.533731Z"
    }
   },
   "source": [
    "from xml.etree.ElementPath import prepare_descendant\n",
    "\n",
    "from networkx.algorithms.shortest_paths.unweighted import predecessor\n",
    "\n",
    "from AllGraphs import *\n",
    "from Draw import *\n",
    "from math import *\n",
    "import numpy as np\n",
    "\n",
    "graphConstructor = IncidencyGraph"
   ],
   "outputs": [],
   "execution_count": 1
  },
  {
   "cell_type": "code",
   "metadata": {
    "collapsed": false,
    "ExecuteTime": {
     "end_time": "2025-04-19T12:03:46.799577Z",
     "start_time": "2025-04-19T12:03:46.768547Z"
    }
   },
   "source": [
    "class Tas :\n",
    "    def __init__(self, compare = lambda a, b : a - b) :\n",
    "        self.data = list()\n",
    "        self.compare = compare\n",
    "\n",
    "    def __len__(self) :\n",
    "        # DONE : renvoyer le nombre d'éléments du tas\n",
    "        return len(self.data)\n",
    "\n",
    "    def __getitem__(self, i) :\n",
    "        # DONE : autoriser la notation [i] en lecture\n",
    "        return self.data[i]\n",
    "\n",
    "    def __setitem__(self, i, v) :\n",
    "        # DONE : autoriser la notation [i] en écriture\n",
    "        self.data[i] = v\n",
    "\n",
    "    def left_id(self, i) :\n",
    "        # DONE : renvoyer l'indice du fils gauche\n",
    "        return 2*i+1\n",
    "\n",
    "    def right_id(self, i) :\n",
    "        # DONE : renvoyer l'indice du fils droit\n",
    "        return 2*i+2\n",
    "\n",
    "    def parent_id(self, i) :\n",
    "        # DONE : renvoyer l'indice du parent\n",
    "        return (i-1)//2\n",
    "\n",
    "    def tamper_to_root(self, i):\n",
    "        if i == 0:\n",
    "            return\n",
    "\n",
    "        parent_id = self.parent_id(i)\n",
    "\n",
    "        if self.compare(self[i], self[parent_id]) > 0:\n",
    "            self[i], self[parent_id] = self[parent_id], self[i]\n",
    "\n",
    "            if parent_id != 0:\n",
    "                self.tamper_to_root(parent_id)\n",
    "\n",
    "    def append(self, v) :\n",
    "        # DONE : ajouter un élément depuis la fin de la liste et le faire remonter jusqu'à sa position dans l'arbre\n",
    "        self.data = self.data + [v]\n",
    "        self.tamper_to_root(len(self.data)-1)\n",
    "        return self.data\n",
    "\n",
    "    def tamper_to_leaf(self, i):\n",
    "        if i >= len(self):\n",
    "            return\n",
    "\n",
    "        left_id = self.left_id(i)\n",
    "        right_id = self.right_id(i)\n",
    "\n",
    "        if left_id >= len(self):\n",
    "            return\n",
    "\n",
    "        best_id = i\n",
    "\n",
    "        if self.compare(self[left_id], self[best_id]) > 0:\n",
    "            best_id = left_id\n",
    "\n",
    "        if right_id < len(self) and self.compare(self[right_id], self[best_id]) > 0:\n",
    "            best_id = right_id\n",
    "\n",
    "        if best_id != i:\n",
    "            self[i], self[best_id] = self[best_id], self[i]\n",
    "            self.tamper_to_leaf(best_id)\n",
    "\n",
    "    def pop(self) :\n",
    "        # DONE : extraire le plus petit élément échanger le dernier élément et le premier élément puis faire descendre le premier élément jusqu'à sa position dans l'arbre\n",
    "\n",
    "        root = self.data[0]\n",
    "        self.data[0] = self.data[-1]\n",
    "        self.data = self.data[:-1]\n",
    "        self.tamper_to_leaf(0)\n",
    "        return root"
   ],
   "outputs": [],
   "execution_count": 2
  },
  {
   "cell_type": "code",
   "metadata": {
    "collapsed": false,
    "ExecuteTime": {
     "end_time": "2025-04-19T12:03:53.822672Z",
     "start_time": "2025-04-19T12:03:53.811619Z"
    }
   },
   "source": [
    "def tri_par_tas(l, compare = lambda a, b : b - a) :\n",
    "    tas = Tas(compare)\n",
    "    for e in l :\n",
    "        tas.append(e)\n",
    "    r = list()\n",
    "    while len(tas) > 0 :\n",
    "        r.append(tas.pop())\n",
    "    return r"
   ],
   "outputs": [],
   "execution_count": 3
  },
  {
   "cell_type": "code",
   "metadata": {
    "collapsed": false,
    "ExecuteTime": {
     "end_time": "2025-04-19T12:03:54.428714Z",
     "start_time": "2025-04-19T12:03:54.410946Z"
    }
   },
   "source": [
    "do_full = True\n",
    "l = [5, 9, 4, 7, 2, 3, 1, 6]\n",
    "print(tri_par_tas(l))\n",
    "if do_full :\n",
    "    from random import *\n",
    "    l = [randint(-1000, 1000) for i in range(0, 10)]\n",
    "    print(l)\n",
    "    r = tri_par_tas(l)\n",
    "    print(r)\n",
    "    is_sorted = True\n",
    "    for i in range(len(r) - 1) :\n",
    "        if r[i] > r[i + 1] :\n",
    "            is_sorted = False\n",
    "    print(\"Sorted :\", is_sorted)"
   ],
   "outputs": [
    {
     "name": "stdout",
     "output_type": "stream",
     "text": [
      "[1, 2, 3, 4, 5, 6, 7, 9]\n",
      "[-104, 58, 639, -543, 797, -924, 689, 343, -273, -117]\n",
      "[-924, -543, -273, -117, -104, 58, 343, 639, 689, 797]\n",
      "Sorted : True\n"
     ]
    }
   ],
   "execution_count": 4
  },
  {
   "cell_type": "code",
   "metadata": {
    "collapsed": false,
    "ExecuteTime": {
     "end_time": "2025-04-19T12:03:58.258697Z",
     "start_time": "2025-04-19T12:03:58.247167Z"
    }
   },
   "source": [
    "class UnionFind :\n",
    "    def __init__(self, values) :\n",
    "        self.parent = {v : v for v in values}\n",
    "        self.rank = {v : 0 for v in values}\n",
    "\n",
    "    def find(self, v) :\n",
    "        # DONE : rechercher le réprésentant de v dans le graphe.\n",
    "        # DONE : mettre à jour les liens de parenté lors du parcours\n",
    "        if self.parent[v] != v:\n",
    "            self.parent[v] = self.find(self.parent[v])\n",
    "        return self.parent[v]\n",
    "\n",
    "    def union(self, x, y) :\n",
    "        # DONE : fusionner les classes de x et y\n",
    "        xRoot = self.find(x)\n",
    "        yRoot = self.find(y)\n",
    "\n",
    "        if xRoot != yRoot:\n",
    "            if self.rank[xRoot] < self.rank[yRoot]:\n",
    "                self.parent[xRoot] = yRoot\n",
    "            else:\n",
    "                self.parent[yRoot] = xRoot\n",
    "                if self.rank[xRoot] == self.rank[yRoot]:\n",
    "                    self.rank[xRoot] += 1\n",
    "\n",
    "# TODO : une classe Pair comparable pour associer un arc et son poids et l'utiliser via Tas ?\n"
   ],
   "outputs": [],
   "execution_count": 5
  },
  {
   "cell_type": "code",
   "metadata": {
    "collapsed": false,
    "ExecuteTime": {
     "end_time": "2025-04-19T12:04:02.563687Z",
     "start_time": "2025-04-19T12:04:02.553617Z"
    }
   },
   "source": [
    "def Kruskal(graph) :\n",
    "    # DONE : construire l'arbre couvrant minimal par extraction d'arcs minimaux (composants non connectés)\n",
    "    tas = Tas(compare= lambda a, b: b[2] - a[2])\n",
    "    connexite = UnionFind(graph.get_vertices())\n",
    "    couverture = set()\n",
    "\n",
    "    for u, v in graph.get_edges():\n",
    "        poids = graph.get_transition(u, v)\n",
    "        tas.append((u, v, poids))\n",
    "\n",
    "    while len(tas) > 0:\n",
    "        u, v = tas.pop()[0:2]\n",
    "        if connexite.find(u) == connexite.find(v):\n",
    "            continue\n",
    "        connexite.union(u, v)\n",
    "        couverture.add((u, v))\n",
    "    return couverture\n"
   ],
   "outputs": [],
   "execution_count": 6
  },
  {
   "cell_type": "code",
   "metadata": {
    "collapsed": false,
    "ExecuteTime": {
     "end_time": "2025-04-19T12:04:05.643734Z",
     "start_time": "2025-04-19T12:04:05.632008Z"
    }
   },
   "source": [
    "def example_star() :\n",
    "\tgraph = graphConstructor()\n",
    "\tgraph.add_vertices({\"A\", \"B\", \"C\", \"D\", \"E\", \"F\"})\n",
    "\tedges = {(\"A\", \"B\") : 1, (\"A\", \"C\") : 6, (\"A\", \"F\") : 4, (\"B\", \"C\") : 5, (\"B\", \"D\") : 2, (\"B\", \"E\") : 4, (\"B\", \"F\") : 5, (\"C\", \"D\") : 3, (\"D\", \"E\") : 2, (\"E\", \"F\") : 6}\n",
    "\tgraph.add_edges(edges)\n",
    "\tgraph.add_edges({(v, u) : edges[(u, v)] for u, v in edges})\n",
    "\treturn graph"
   ],
   "outputs": [],
   "execution_count": 7
  },
  {
   "cell_type": "code",
   "metadata": {
    "collapsed": false,
    "ExecuteTime": {
     "end_time": "2025-04-19T12:04:06.375234Z",
     "start_time": "2025-04-19T12:04:06.357136Z"
    }
   },
   "source": [
    "print(Kruskal(example_star()))"
   ],
   "outputs": [
    {
     "name": "stdout",
     "output_type": "stream",
     "text": [
      "{('C', 'D'), ('B', 'A'), ('B', 'D'), ('E', 'D'), ('A', 'F')}\n"
     ]
    }
   ],
   "execution_count": 8
  },
  {
   "cell_type": "code",
   "metadata": {
    "collapsed": false,
    "ExecuteTime": {
     "end_time": "2025-04-19T12:04:08.329391Z",
     "start_time": "2025-04-19T12:04:08.319131Z"
    }
   },
   "source": [
    "def Prim(graph, start) :\n",
    "    # DONE : construire l'arbre couvrant minimal par diffusion via les arcs minimaux\n",
    "    tas = Tas(compare= lambda a, b: b[2] - a[2])\n",
    "    faits = [start]\n",
    "    couverture = set()\n",
    "\n",
    "    for v in graph.neighbors(start):\n",
    "        poids = graph.get_transition(start, v)\n",
    "        tas.append((start, v, poids))\n",
    "\n",
    "    while len(faits) < len(graph.get_vertices()):\n",
    "        u, v = tas.pop()[0:2]\n",
    "\n",
    "        if v in faits:\n",
    "            continue\n",
    "\n",
    "        for w in graph.neighbors(v):\n",
    "            if w not in faits:\n",
    "                poids = graph.get_transition(v, w)\n",
    "                tas.append((v, w, poids))\n",
    "\n",
    "        faits.append(v)\n",
    "        couverture.add((u, v))\n",
    "\n",
    "    return couverture"
   ],
   "outputs": [],
   "execution_count": 9
  },
  {
   "cell_type": "code",
   "metadata": {
    "collapsed": false,
    "ExecuteTime": {
     "end_time": "2025-04-19T12:04:10.917490Z",
     "start_time": "2025-04-19T12:04:10.907909Z"
    }
   },
   "source": [
    "print(Prim(example_star(), \"A\"))"
   ],
   "outputs": [
    {
     "name": "stdout",
     "output_type": "stream",
     "text": [
      "{('D', 'C'), ('B', 'D'), ('D', 'E'), ('A', 'F'), ('A', 'B')}\n"
     ]
    }
   ],
   "execution_count": 10
  },
  {
   "cell_type": "code",
   "metadata": {
    "collapsed": false,
    "ExecuteTime": {
     "end_time": "2025-04-19T12:45:02.478567Z",
     "start_time": "2025-04-19T12:45:02.463443Z"
    }
   },
   "source": [
    "def build_path(adjacences, start, end) :\n",
    "    # DONE : reconstruire le chemin de start vers end depuis les adjacences données\n",
    "    if end not in adjacences or adjacences[end] is None:\n",
    "        return []\n",
    "\n",
    "    path = [end]\n",
    "    current = end\n",
    "\n",
    "    while current != start:\n",
    "        current = adjacences[current]\n",
    "        if current is None:\n",
    "            return []\n",
    "        path.append(current)\n",
    "\n",
    "    return path[::-1]\n",
    "\n",
    "def path_cost(graph, path) :\n",
    "    # DONE : calculer le coût du chemin\n",
    "    if not path or len(path) < 2:\n",
    "        return 0\n",
    "\n",
    "    cost = 0\n",
    "    for i in range(len(path) - 1):\n",
    "        weight = graph.get_transition(path[i], path[i+1])\n",
    "        if weight is None:\n",
    "            return np.inf\n",
    "        cost += weight\n",
    "\n",
    "    return cost"
   ],
   "outputs": [],
   "execution_count": 18
  },
  {
   "cell_type": "code",
   "metadata": {
    "collapsed": false,
    "ExecuteTime": {
     "end_time": "2025-04-19T12:45:06.706225Z",
     "start_time": "2025-04-19T12:45:06.691558Z"
    }
   },
   "source": [
    "def Dijkstra(graph, start, end = None) :\n",
    "    # DONE : implémenter la méthode de recherche de plus court chemin dans un graphe de Dijkstra\n",
    "    predecessors = {v: None for v in graph.get_vertices()}\n",
    "    distances = {v: np.inf for v in graph.get_vertices()}\n",
    "    distances[start] = 0\n",
    "\n",
    "    queue = set(graph.get_vertices())\n",
    "\n",
    "    while queue:\n",
    "        v = min(queue, key= lambda x: distances[x])\n",
    "\n",
    "        if end is not None and v == end:\n",
    "            break\n",
    "\n",
    "        queue.remove(v)\n",
    "\n",
    "        d = distances[v]\n",
    "\n",
    "        for n in graph.neighbors(v):\n",
    "            weight = graph.get_transition(v, n)\n",
    "\n",
    "            if d + weight < distances[n]:\n",
    "                distances[n] = d + weight\n",
    "                predecessors[n] = v\n",
    "\n",
    "    return predecessors"
   ],
   "outputs": [],
   "execution_count": 19
  },
  {
   "cell_type": "code",
   "metadata": {
    "collapsed": false,
    "ExecuteTime": {
     "end_time": "2025-04-19T12:45:10.002204Z",
     "start_time": "2025-04-19T12:45:09.988049Z"
    }
   },
   "source": [
    "def example_net() :\n",
    "\tgraph = graphConstructor()\n",
    "\tgraph.add_vertices({\"A\", \"B\", \"C\", \"D\", \"E\", \"F\"})\n",
    "\tedges = {(\"A\", \"B\") : 2, (\"A\", \"C\") : 5, (\"A\", \"D\") : 1, \n",
    "\t(\"B\", \"C\") : 3, (\"B\", \"D\") : 2, (\"C\", \"D\") : 3, (\"C\", \"E\") : 1,\n",
    "\t(\"C\", \"F\") : 5, (\"D\", \"E\") : 1, (\"E\", \"F\") : 2}\n",
    "\tgraph.add_edges(edges)\n",
    "\tgraph.add_edges({(v, u) : edges[(u, v)] for u, v in edges})\n",
    "\treturn graph"
   ],
   "outputs": [],
   "execution_count": 20
  },
  {
   "cell_type": "code",
   "metadata": {
    "collapsed": false,
    "ExecuteTime": {
     "end_time": "2025-04-19T12:45:28.944009Z",
     "start_time": "2025-04-19T12:45:28.934594Z"
    }
   },
   "source": [
    "graph = example_net()\n",
    "adjacences = Dijkstra(graph, \"A\")\n",
    "print(adjacences)\n",
    "path = build_path(adjacences, \"A\", \"F\")\n",
    "print(path)\n",
    "print(path_cost(graph, path))"
   ],
   "outputs": [
    {
     "name": "stdout",
     "output_type": "stream",
     "text": [
      "{'A': None, 'C': 'E', 'F': 'E', 'E': 'D', 'D': 'A', 'B': 'A'}\n",
      "['A', 'D', 'E', 'F']\n",
      "4\n"
     ]
    }
   ],
   "execution_count": 21
  },
  {
   "cell_type": "code",
   "metadata": {
    "collapsed": false,
    "ExecuteTime": {
     "end_time": "2025-04-19T13:33:39.807848Z",
     "start_time": "2025-04-19T13:33:39.791778Z"
    }
   },
   "source": [
    "def Floyd_Warshall(graph):\n",
    "    # DONE : implémenter la méthode de recherche de plus court chemin dans un graphe de Floyd-Warshall\n",
    "    predecessors = {}\n",
    "    distances = {}\n",
    "    vertices = list(graph.get_vertices())\n",
    "\n",
    "    for s in vertices:\n",
    "        predecessors[s] = {}\n",
    "        distances[s] = {}\n",
    "        for t in vertices:\n",
    "            if s == t:\n",
    "                distances[s][t] = 0\n",
    "            elif graph.has_edge(s, t):\n",
    "                distances[s][t] = graph.get_transition(s, t)\n",
    "                predecessors[s][t] = s\n",
    "            else:\n",
    "                distances[s][t] = np.inf\n",
    "                predecessors[s][t] = None\n",
    "\n",
    "    for k in vertices:\n",
    "        for s in vertices:\n",
    "            for t in vertices:\n",
    "                if distances[s][k] + distances[k][t] < distances[s][t]:\n",
    "                    distances[s][t] = distances[s][k] + distances[k][t]\n",
    "                    predecessors[s][t] = predecessors[k][t]\n",
    "\n",
    "    return predecessors\n"
   ],
   "outputs": [],
   "execution_count": 32
  },
  {
   "cell_type": "code",
   "metadata": {
    "collapsed": false,
    "ExecuteTime": {
     "end_time": "2025-04-19T13:33:40.073876Z",
     "start_time": "2025-04-19T13:33:40.059157Z"
    }
   },
   "source": [
    "graph = example_net()\n",
    "adjacences = Floyd_Warshall(graph)\n",
    "for v in sorted(adjacences.keys()) :\n",
    "    print(v, adjacences[v])\n",
    "path = build_path(adjacences[\"A\"], \"A\", \"F\")\n",
    "print(path)\n",
    "print(path_cost(graph, path))"
   ],
   "outputs": [
    {
     "name": "stdout",
     "output_type": "stream",
     "text": [
      "A {'C': 'E', 'F': 'E', 'E': 'D', 'D': 'A', 'B': 'A'}\n",
      "B {'A': 'B', 'C': 'B', 'F': 'E', 'E': 'D', 'D': 'B'}\n",
      "C {'A': 'D', 'F': 'E', 'E': 'C', 'D': 'E', 'B': 'C'}\n",
      "D {'A': 'D', 'C': 'E', 'F': 'E', 'E': 'D', 'B': 'D'}\n",
      "E {'A': 'D', 'C': 'E', 'F': 'E', 'D': 'E', 'B': 'D'}\n",
      "F {'A': 'D', 'C': 'E', 'E': 'F', 'D': 'E', 'B': 'D'}\n",
      "['A', 'D', 'E', 'F']\n",
      "4\n"
     ]
    }
   ],
   "execution_count": 33
  },
  {
   "cell_type": "code",
   "metadata": {
    "collapsed": false,
    "ExecuteTime": {
     "end_time": "2025-04-19T13:33:44.230495Z",
     "start_time": "2025-04-19T13:33:44.214597Z"
    }
   },
   "source": [
    "def example_neg() :\n",
    "\tgraph = graphConstructor()\n",
    "\tgraph.add_vertices({\"A\", \"B\", \"C\", \"D\"})\n",
    "\tedges = {(\"A\", \"B\") : 2, (\"A\", \"D\") : 5, (\"D\", \"B\") : -5, (\"B\", \"C\") : 2, (\"D\", \"C\") : -2}\n",
    "\tgraph.add_edges(edges)\n",
    "\treturn graph"
   ],
   "outputs": [],
   "execution_count": 34
  },
  {
   "cell_type": "code",
   "metadata": {
    "collapsed": false,
    "ExecuteTime": {
     "end_time": "2025-04-19T13:33:48.754802Z",
     "start_time": "2025-04-19T13:33:48.739105Z"
    }
   },
   "source": [
    "graph = example_neg()\n",
    "adjacences = Dijkstra(graph, \"A\")\n",
    "print(adjacences)\n",
    "path = build_path(adjacences, \"A\", \"C\")\n",
    "print(path)\n",
    "print(path_cost(graph, path))"
   ],
   "outputs": [
    {
     "name": "stdout",
     "output_type": "stream",
     "text": [
      "{'A': None, 'B': 'D', 'C': 'D', 'D': 'A'}\n",
      "['A', 'D', 'C']\n",
      "3\n"
     ]
    }
   ],
   "execution_count": 35
  },
  {
   "cell_type": "code",
   "metadata": {
    "collapsed": false,
    "ExecuteTime": {
     "end_time": "2025-04-19T13:35:13.859029Z",
     "start_time": "2025-04-19T13:35:13.848985Z"
    }
   },
   "source": [
    "graph = example_neg()\n",
    "adjacences = Floyd_Warshall(graph)\n",
    "for v in sorted(adjacences.keys()) :\n",
    "    print(v, adjacences[v])\n",
    "path = build_path(adjacences[\"A\"], \"A\", \"C\")\n",
    "print(path)\n",
    "print(path_cost(graph, path))"
   ],
   "outputs": [
    {
     "name": "stdout",
     "output_type": "stream",
     "text": [
      "A {'B': 'D', 'C': 'B', 'D': 'A'}\n",
      "B {'A': None, 'C': 'B', 'D': None}\n",
      "C {'A': None, 'B': None, 'D': None}\n",
      "D {'A': None, 'B': 'D', 'C': 'B'}\n",
      "['A', 'D', 'B', 'C']\n",
      "2\n"
     ]
    }
   ],
   "execution_count": 36
  },
  {
   "cell_type": "code",
   "metadata": {
    "collapsed": false,
    "ExecuteTime": {
     "end_time": "2025-04-19T13:48:53.924271Z",
     "start_time": "2025-04-19T13:48:53.911714Z"
    }
   },
   "source": [
    "def Bellman_Ford(graph, start, end = None) :\n",
    "    # DONE : implémenter la méthode robuste aux arcs de poids négatif de Bellman-Ford\n",
    "    predecessors = {v: None for v in graph.get_vertices()}\n",
    "    distances = {v: np.inf for v in graph.get_vertices()}\n",
    "    distances[start] = 0\n",
    "    queue = graph.get_vertices()\n",
    "\n",
    "    for i in range(1, len(graph.get_vertices())):\n",
    "        for s, t in graph.get_edges():\n",
    "            d = distances[s] + graph.get_transition(s, t)\n",
    "\n",
    "            if d < distances[t]:\n",
    "                distances[t] = d\n",
    "                predecessors[t] = s\n",
    "\n",
    "    for s, t in graph.get_edges():\n",
    "        if distances[s] + graph.get_transition(s, t) < distances[t]:\n",
    "            return {}\n",
    "\n",
    "    return predecessors"
   ],
   "outputs": [],
   "execution_count": 45
  },
  {
   "cell_type": "code",
   "metadata": {
    "collapsed": false,
    "ExecuteTime": {
     "end_time": "2025-04-19T13:48:55.989100Z",
     "start_time": "2025-04-19T13:48:55.969355Z"
    }
   },
   "source": [
    "graph = example_neg()\n",
    "adjacences = Bellman_Ford(graph, \"A\")\n",
    "print(adjacences)\n",
    "path = build_path(adjacences, \"A\", \"C\")\n",
    "print(path)\n",
    "print(path_cost(graph, path))"
   ],
   "outputs": [
    {
     "name": "stdout",
     "output_type": "stream",
     "text": [
      "{'A': None, 'B': 'D', 'C': 'B', 'D': 'A'}\n",
      "['A', 'D', 'B', 'C']\n",
      "2\n"
     ]
    }
   ],
   "execution_count": 46
  },
  {
   "cell_type": "code",
   "metadata": {
    "collapsed": false,
    "ExecuteTime": {
     "end_time": "2025-04-19T14:12:34.838005Z",
     "start_time": "2025-04-19T14:12:34.825610Z"
    }
   },
   "source": [
    "def Astar(graph, start, end, heuristic = lambda x : 1) :\n",
    "    # DONE : implémenter la méthode de recherche de chemin A* guidée par une heuristique\n",
    "    predecessors = {v: None for v in graph.get_vertices()}\n",
    "    costs = {v: np.inf for v in graph.get_vertices()}\n",
    "    costs[start] = 0\n",
    "    queue = Tas(lambda a, b: (costs[a] + heuristic(a)) - (costs[b] + heuristic(b)))\n",
    "    queue.append(start)\n",
    "    done = set()\n",
    "\n",
    "    while len(queue) > 0:\n",
    "        v = queue.pop()\n",
    "        done.add(v)\n",
    "        if v == end:\n",
    "            return predecessors\n",
    "\n",
    "        for n in graph.neighbors(v):\n",
    "            c = costs[v] + graph.get_transition(v, n) + heuristic(n)\n",
    "            if c < costs[n]:\n",
    "                predecessors[n] = v\n",
    "                costs[n] = c\n",
    "                queue.append(n)\n",
    "\n",
    "    return -1"
   ],
   "outputs": [],
   "execution_count": 57
  },
  {
   "cell_type": "code",
   "metadata": {
    "collapsed": false,
    "ExecuteTime": {
     "end_time": "2025-04-19T14:16:04.935271Z",
     "start_time": "2025-04-19T14:16:04.790504Z"
    }
   },
   "source": [
    "connex = 8\n",
    "grid = \"\"\"\n",
    ".............\n",
    "......#####..\n",
    "......#...#..\n",
    ".S........#.E\n",
    "......#...#..\n",
    "......#####..\n",
    ".............\n",
    "\"\"\"\n",
    "grid = [l for l in grid.split(\"\\n\") if len(l) > 0]\n",
    "start = None\n",
    "end = None\n",
    "graph = graphConstructor()\n",
    "print(\"\\n\".join(grid))\n",
    "compute_distance = lambda a, b : ((a[0] - b[0]) ** 2 + (a[1] - b[1]) ** 2) ** 0.5\n",
    "for i in range(len(grid)) :\n",
    "    for j in range(len(grid[i])) :\n",
    "        if grid[i][j] != \"#\" :\n",
    "            graph.add_vertex((i, j))\n",
    "        if grid[i][j] == \"S\" :\n",
    "            start = (i, j)\n",
    "        if grid[i][j] == \"E\" :\n",
    "            end = (i, j)\n",
    "nei = [(1, 0), (0, 1), (-1, 0), (0, -1)]\n",
    "if connex == 8 :\n",
    "    nei += [(1, 1), (1, -1), (-1, 1), (-1, -1)]\n",
    "for i in range(len(grid)) :\n",
    "    for j in range(len(grid[i])) :\n",
    "        if grid[i][j] == \"#\" : continue\n",
    "        for ox, oy in nei :\n",
    "            if i + ox >= 0 and i + ox < len(grid) and j + oy >= 0 and j + oy < len(grid[i]) and grid[i + ox][j + oy] != \"#\" :\n",
    "                d = (ox ** 2 + oy ** 2) ** 0.5\n",
    "                graph.add_edge((i, j), (i + ox, j + oy), d)\n",
    "                graph.add_edge((i + ox, j + oy), (i, j), d)\n",
    "for choix in [\"Dijkstra\", \"Bellman_Ford\", \"Astar\", \"Floyd_Warshall\"] :\n",
    "    print(choix)\n",
    "    if choix == \"Astar\" :\n",
    "        path = build_path(eval(choix)(graph, start, end, heuristic = lambda x : 10 * compute_distance(x, end) ** 10), start, end)\n",
    "    if choix == \"Floyd_Warshall\" :\n",
    "        path = build_path(eval(choix)(graph)[start], start, end)\n",
    "    else :\n",
    "        path = build_path(eval(choix)(graph, start, end), start, end)\n",
    "    print(path)\n",
    "    distance = 0\n",
    "    for i in range(len(path) - 1) :\n",
    "        distance += compute_distance(path[i], path[i + 1])\n",
    "    print(\"- distance : %g\" % distance)\n",
    "    path = set(path)\n",
    "    for i in range(len(grid)) :\n",
    "        line = \"\"\n",
    "        for j in range(len(grid[i])) :\n",
    "            if (i, j) in path :\n",
    "                line += \"o\"\n",
    "            else :\n",
    "                line += grid[i][j]\n",
    "        print(line)"
   ],
   "outputs": [
    {
     "name": "stdout",
     "output_type": "stream",
     "text": [
      ".............\n",
      "......#####..\n",
      "......#...#..\n",
      ".S........#.E\n",
      "......#...#..\n",
      "......#####..\n",
      ".............\n",
      "Dijkstra\n",
      "[(3, 1), (3, 2), (3, 3), (2, 4), (1, 5), (0, 6), (0, 7), (0, 8), (0, 9), (0, 10), (1, 11), (2, 11), (3, 12)]\n",
      "- distance : 14.0711\n",
      "......ooooo..\n",
      ".....o#####o.\n",
      "....o.#...#o.\n",
      ".ooo......#.o\n",
      "......#...#..\n",
      "......#####..\n",
      ".............\n",
      "Bellman_Ford\n",
      "[(3, 1), (3, 2), (2, 3), (2, 4), (1, 5), (0, 6), (0, 7), (0, 8), (0, 9), (0, 10), (1, 11), (2, 12), (3, 12)]\n",
      "- distance : 14.0711\n",
      "......ooooo..\n",
      ".....o#####o.\n",
      "...oo.#...#.o\n",
      ".oo.......#.o\n",
      "......#...#..\n",
      "......#####..\n",
      ".............\n",
      "Astar\n",
      "[(3, 1), (4, 0), (5, 1), (6, 2), (5, 3), (4, 4), (5, 5), (6, 6), (6, 7), (6, 8), (6, 9), (6, 10), (5, 11), (4, 12), (3, 12)]\n",
      "- distance : 17.7279\n",
      ".............\n",
      "......#####..\n",
      "......#...#..\n",
      ".o........#.o\n",
      "o...o.#...#.o\n",
      ".o.o.o#####o.\n",
      "..o...ooooo..\n",
      "Floyd_Warshall\n",
      "[(3, 1), (3, 2), (3, 3), (4, 4), (5, 5), (6, 6), (6, 7), (6, 8), (6, 9), (6, 10), (5, 11), (4, 11), (3, 12)]\n",
      "- distance : 14.0711\n",
      ".............\n",
      "......#####..\n",
      "......#...#..\n",
      ".ooo......#.o\n",
      "....o.#...#o.\n",
      ".....o#####o.\n",
      "......ooooo..\n"
     ]
    }
   ],
   "execution_count": 62
  },
  {
   "metadata": {},
   "cell_type": "code",
   "outputs": [],
   "execution_count": null,
   "source": ""
  }
 ],
 "metadata": {
  "kernelspec": {
   "argv": [
    "/usr/bin/python3",
    "-m",
    "ipykernel",
    "--HistoryManager.enabled=False",
    "--matplotlib=inline",
    "-c",
    "%config InlineBackend.figure_formats = set(['retina'])\nimport matplotlib; matplotlib.rcParams['figure.figsize'] = (12, 7)",
    "-f",
    "{connection_file}"
   ],
   "display_name": "Python 3 (system-wide)",
   "env": {},
   "language": "python",
   "metadata": {
    "cocalc": {
     "description": "Python 3 programming language",
     "priority": 100,
     "url": "https://www.python.org/"
    }
   },
   "name": "python3",
   "resource_dir": "/ext/jupyter/kernels/python3"
  },
  "language_info": {
   "codemirror_mode": {
    "name": "ipython",
    "version": 3
   },
   "file_extension": ".py",
   "mimetype": "text/x-python",
   "name": "python",
   "nbconvert_exporter": "python",
   "pygments_lexer": "ipython3",
   "version": "3.10.12"
  }
 },
 "nbformat": 4,
 "nbformat_minor": 4
}
